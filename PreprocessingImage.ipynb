{
 "cells": [
  {
   "cell_type": "code",
   "execution_count": 1,
   "metadata": {},
   "outputs": [
    {
     "name": "stdout",
     "output_type": "stream",
     "text": [
      "The zip file has been extracted into the folder: C:\\Users\\ACER\\Desktop\\Lab1_DPL302m\\Data\\Dataset\n"
     ]
    }
   ],
   "source": [
    "import zipfile\n",
    "import os\n",
    "\n",
    "zip_file_path = '.../Data/2024-sum-dpl-302-m.zip'\n",
    "\n",
    "extract_dir = '.../Data/Dataset'\n",
    "\n",
    "os.makedirs(extract_dir, exist_ok=True)\n",
    "\n",
    "with zipfile.ZipFile(zip_file_path, 'r') as zip_ref:\n",
    "    zip_ref.extractall(extract_dir)\n",
    "\n",
    "print(\"The zip file has been extracted into the folder:\", extract_dir)"
   ]
  },
  {
   "cell_type": "code",
   "execution_count": 2,
   "metadata": {},
   "outputs": [],
   "source": [
    "import shutil\n",
    "\n",
    "def rename_and_move_images(src_directory, dest_directory):\n",
    "    # Create the destination directory if it does not exist\n",
    "    if not os.path.exists(dest_directory):\n",
    "        os.makedirs(dest_directory)\n",
    "    \n",
    "    # List all files in the source directory\n",
    "    for filename in os.listdir(src_directory):\n",
    "        # Check if the filename starts with ._\n",
    "        if filename.startswith('._'):\n",
    "            # Create the new filename by removing the ._ prefix\n",
    "            new_filename = filename[2:]\n",
    "        else:\n",
    "            # If no prefix, keep the original filename\n",
    "            new_filename = filename\n",
    "\n",
    "        # Create full paths\n",
    "        old_file = os.path.join(src_directory, filename)\n",
    "        new_file = os.path.join(dest_directory, new_filename)\n",
    "\n",
    "        # Move and rename the file\n",
    "        shutil.move(old_file, new_file)\n",
    "        print(f'Moved and renamed: {old_file} to {new_file}')"
   ]
  },
  {
   "cell_type": "code",
   "execution_count": null,
   "metadata": {},
   "outputs": [],
   "source": [
    "# Create train set\n",
    "src_directory = '.../Data/Dataset/devset_images/devset_images'\n",
    "\n",
    "\n",
    "dest_directory = '.../Data/Dataset/devset_images/trainset_images'\n",
    "\n",
    "rename_and_move_images(src_directory, dest_directory)"
   ]
  },
  {
   "cell_type": "code",
   "execution_count": null,
   "metadata": {},
   "outputs": [],
   "source": [
    "# Create test set\n",
    "src_directory = '.../Data/Dataset/testset_images'\n",
    "\n",
    "dest_directory = '.../Data/Dataset/testset'\n",
    "\n",
    "rename_and_move_images(src_directory, dest_directory)"
   ]
  }
 ],
 "metadata": {
  "kernelspec": {
   "display_name": "myenv",
   "language": "python",
   "name": "python3"
  },
  "language_info": {
   "codemirror_mode": {
    "name": "ipython",
    "version": 3
   },
   "file_extension": ".py",
   "mimetype": "text/x-python",
   "name": "python",
   "nbconvert_exporter": "python",
   "pygments_lexer": "ipython3",
   "version": "3.9.19"
  }
 },
 "nbformat": 4,
 "nbformat_minor": 2
}
